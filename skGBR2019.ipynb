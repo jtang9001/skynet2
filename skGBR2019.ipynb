{
 "nbformat": 4,
 "nbformat_minor": 2,
 "metadata": {
  "language_info": {
   "name": "python",
   "codemirror_mode": {
    "name": "ipython",
    "version": 3
   },
   "version": "3.7.4"
  },
  "orig_nbformat": 2,
  "file_extension": ".py",
  "mimetype": "text/x-python",
  "name": "python",
  "npconvert_exporter": "python",
  "pygments_lexer": "ipython3",
  "version": 3
 },
 "cells": [
  {
   "cell_type": "code",
   "execution_count": 7,
   "metadata": {},
   "outputs": [],
   "source": [
    "import pandas as pd\n",
    "import numpy as np\n",
    "import matplotlib.pyplot as plt\n",
    "import seaborn as sns\n",
    "\n",
    "import sklearn as sk\n",
    "from sklearn.model_selection import cross_val_score\n",
    "\n",
    "from tradPointOut import rankToPoints2017\n",
    "from tabulabuilder import School\n",
    "\n",
    "sns.set_style(\"whitegrid\")"
   ]
  },
  {
   "cell_type": "code",
   "execution_count": 8,
   "metadata": {},
   "outputs": [],
   "source": [
    "rawDf = pd.read_csv(\"data/tier7QLonly.csv\")\n",
    "df = rawDf.copy()\n",
    "df.isRelay = df.isRelay.astype(int)\n",
    "\n",
    "df2019 = pd.read_csv(\"data/2019.csv\")\n",
    "df2019.isRelay = df2019.isRelay.astype(int)\n",
    "df2019[\"school\"] = df2019[\"school\"].apply(lambda idx: School.get_by_id(idx).name)"
   ]
  },
  {
   "cell_type": "code",
   "execution_count": 9,
   "metadata": {},
   "outputs": [
    {
     "ename": "NameError",
     "evalue": "name 'testX' is not defined",
     "output_type": "error",
     "traceback": [
      "\u001b[1;31m---------------------------------------------------------------------------\u001b[0m",
      "\u001b[1;31mNameError\u001b[0m                                 Traceback (most recent call last)",
      "\u001b[1;32m<ipython-input-9-03e4bb467a4c>\u001b[0m in \u001b[0;36m<module>\u001b[1;34m\u001b[0m\n\u001b[0;32m     13\u001b[0m \u001b[1;33m\u001b[0m\u001b[0m\n\u001b[0;32m     14\u001b[0m \u001b[0mtrainX\u001b[0m \u001b[1;33m=\u001b[0m \u001b[0mtrainX\u001b[0m\u001b[1;33m[\u001b[0m\u001b[0mxCols\u001b[0m\u001b[1;33m]\u001b[0m\u001b[1;33m\u001b[0m\u001b[1;33m\u001b[0m\u001b[0m\n\u001b[1;32m---> 15\u001b[1;33m \u001b[0mtestX\u001b[0m \u001b[1;33m=\u001b[0m \u001b[0mtestX\u001b[0m\u001b[1;33m[\u001b[0m\u001b[0mxCols\u001b[0m\u001b[1;33m]\u001b[0m\u001b[1;33m\u001b[0m\u001b[1;33m\u001b[0m\u001b[0m\n\u001b[0m",
      "\u001b[1;31mNameError\u001b[0m: name 'testX' is not defined"
     ]
    }
   ],
   "source": [
    "# df2018 = df.loc[df[\"year\"] == 2018]\n",
    "# testSet = df2018.sample(frac = 0.7, random_state = 42)\n",
    "# testY = testSet.pop(\"points\")\n",
    "# testX = testSet.copy()\n",
    "\n",
    "trainSet = df#[~df.index.isin(testSet.index)]\n",
    "trainY = trainSet.pop(\"points\")\n",
    "trainX = trainSet.copy()\n",
    "\n",
    "xCols = [\"divsSpeed\", \"isRelay\", \"divsTimePctOfMean\",  \"clipped_divsRank\"]\n",
    "\n",
    "x2019 = df2019[xCols]\n",
    "\n",
    "trainX = trainX[xCols] \n",
    "# testX = testX[xCols] "
   ]
  },
  {
   "cell_type": "code",
   "execution_count": 0,
   "metadata": {},
   "outputs": [],
   "source": [
    "df2019[\"tradPred\"] = df2019.apply(lambda row: rankToPoints2017(row[\"divsRank\"]), axis=1)"
   ]
  },
  {
   "cell_type": "code",
   "execution_count": 0,
   "metadata": {},
   "outputs": [],
   "source": [
    "from sklearn.ensemble import GradientBoostingRegressor\n",
    "\n",
    "gbr = GradientBoostingRegressor(n_estimators=2000, criterion=\"friedman_mse\", min_samples_leaf=64, learning_rate=0.1)\n",
    "gbr = gbr.fit(trainX, trainY)\n",
    "scores = cross_val_score(gbr, trainX, trainY, cv=4)\n",
    "print(f\"R^2: {scores.mean()} (+/- {scores.std() * 2})\")\n",
    "\n",
    "gbrY = gbr.predict(x2019)\n",
    "df2019[\"gbrPred\"] = gbrY\n",
    "\n",
    "pd.DataFrame([xCols, gbr.feature_importances_])"
   ]
  },
  {
   "cell_type": "code",
   "execution_count": 0,
   "metadata": {},
   "outputs": [],
   "source": [
    "df2019.to_csv(\"data/2019PredsWholeModel.csv\")"
   ]
  },
  {
   "cell_type": "code",
   "execution_count": 0,
   "metadata": {},
   "outputs": [],
   "source": [
    "plt.figure(figsize = (10,8))\n",
    "plt.xlabel(\"Gradient boosting prediction\")\n",
    "plt.ylabel(\"Traditional prediction\")\n",
    "lineX = np.linspace(0,20,20)\n",
    "plt.plot(lineX, lineX)\n",
    "plt.scatter(df2019[\"gbrPred\"], df2019[\"tradPred\"])"
   ]
  }
 ]
}