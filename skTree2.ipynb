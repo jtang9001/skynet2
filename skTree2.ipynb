{
 "nbformat": 4,
 "nbformat_minor": 2,
 "metadata": {
  "language_info": {
   "name": "python",
   "codemirror_mode": {
    "name": "ipython",
    "version": 3
   }
  },
  "orig_nbformat": 2,
  "file_extension": ".py",
  "mimetype": "text/x-python",
  "name": "python",
  "npconvert_exporter": "python",
  "pygments_lexer": "ipython3",
  "version": 3
 },
 "cells": [
  {
   "cell_type": "code",
   "execution_count": 3,
   "metadata": {},
   "outputs": [],
   "source": [
    "import pandas as pd\n",
    "import sklearn as sk\n",
    "from sklearn.model_selection import train_test_split\n",
    "from sklearn.tree import DecisionTreeRegressor\n",
    "from sklearn import tree \n",
    "import matplotlib.pyplot as plt\n",
    "import graphviz"
   ]
  },
  {
   "cell_type": "code",
   "execution_count": 4,
   "metadata": {},
   "outputs": [
    {
     "data": {
      "text/html": "<div>\n<style scoped>\n    .dataframe tbody tr th:only-of-type {\n        vertical-align: middle;\n    }\n\n    .dataframe tbody tr th {\n        vertical-align: top;\n    }\n\n    .dataframe thead th {\n        text-align: right;\n    }\n</style>\n<table border=\"1\" class=\"dataframe\">\n  <thead>\n    <tr style=\"text-align: right;\">\n      <th></th>\n      <th>id</th>\n      <th>divsRank</th>\n      <th>finalRank</th>\n      <th>swimmer</th>\n      <th>swimmerage</th>\n      <th>school</th>\n      <th>event</th>\n      <th>seedTime</th>\n      <th>divsTime</th>\n      <th>finalTime</th>\n      <th>...</th>\n      <th>stroke</th>\n      <th>isRelay</th>\n      <th>divsTimePctOfMean</th>\n      <th>normed_divsTimePctOfMean</th>\n      <th>normed_divsSpeed</th>\n      <th>normed_numRelays</th>\n      <th>normed_numEvents</th>\n      <th>normed_distance</th>\n      <th>clipped_divsRank</th>\n      <th>designation</th>\n    </tr>\n  </thead>\n  <tbody>\n    <tr>\n      <td>0</td>\n      <td>1</td>\n      <td>1.0</td>\n      <td>1.0</td>\n      <td>1.0</td>\n      <td>15.0</td>\n      <td>26</td>\n      <td>1</td>\n      <td>150.25</td>\n      <td>138.24</td>\n      <td>135.59</td>\n      <td>...</td>\n      <td>Freestyle</td>\n      <td>False</td>\n      <td>0.728062</td>\n      <td>-1.305019</td>\n      <td>1.586392</td>\n      <td>1.0</td>\n      <td>1.0</td>\n      <td>1.0</td>\n      <td>1.0</td>\n      <td>NaN</td>\n    </tr>\n    <tr>\n      <td>1</td>\n      <td>2</td>\n      <td>2.0</td>\n      <td>3.0</td>\n      <td>2.0</td>\n      <td>15.0</td>\n      <td>33</td>\n      <td>1</td>\n      <td>143.62</td>\n      <td>139.33</td>\n      <td>138.31</td>\n      <td>...</td>\n      <td>Freestyle</td>\n      <td>False</td>\n      <td>0.733803</td>\n      <td>-1.277470</td>\n      <td>1.535021</td>\n      <td>0.5</td>\n      <td>1.0</td>\n      <td>1.0</td>\n      <td>2.0</td>\n      <td>NaN</td>\n    </tr>\n    <tr>\n      <td>2</td>\n      <td>3</td>\n      <td>3.0</td>\n      <td>2.0</td>\n      <td>3.0</td>\n      <td>17.0</td>\n      <td>3</td>\n      <td>1</td>\n      <td>131.80</td>\n      <td>139.84</td>\n      <td>136.89</td>\n      <td>...</td>\n      <td>Freestyle</td>\n      <td>False</td>\n      <td>0.736489</td>\n      <td>-1.264580</td>\n      <td>1.511260</td>\n      <td>1.0</td>\n      <td>1.0</td>\n      <td>1.0</td>\n      <td>3.0</td>\n      <td>NaN</td>\n    </tr>\n    <tr>\n      <td>3</td>\n      <td>4</td>\n      <td>4.0</td>\n      <td>4.0</td>\n      <td>4.0</td>\n      <td>17.0</td>\n      <td>3</td>\n      <td>1</td>\n      <td>166.84</td>\n      <td>151.26</td>\n      <td>149.14</td>\n      <td>...</td>\n      <td>Freestyle</td>\n      <td>False</td>\n      <td>0.796634</td>\n      <td>-0.975946</td>\n      <td>1.021167</td>\n      <td>1.0</td>\n      <td>1.0</td>\n      <td>1.0</td>\n      <td>4.0</td>\n      <td>NaN</td>\n    </tr>\n    <tr>\n      <td>4</td>\n      <td>5</td>\n      <td>5.0</td>\n      <td>5.0</td>\n      <td>5.0</td>\n      <td>17.0</td>\n      <td>45</td>\n      <td>1</td>\n      <td>169.94</td>\n      <td>165.49</td>\n      <td>160.00</td>\n      <td>...</td>\n      <td>Freestyle</td>\n      <td>False</td>\n      <td>0.871578</td>\n      <td>-0.616290</td>\n      <td>0.505135</td>\n      <td>0.5</td>\n      <td>1.0</td>\n      <td>1.0</td>\n      <td>5.0</td>\n      <td>NaN</td>\n    </tr>\n  </tbody>\n</table>\n<p>5 rows × 28 columns</p>\n</div>",
      "text/plain": "   id  divsRank  finalRank  swimmer  swimmerage  school  event  seedTime  \\\n0   1       1.0        1.0      1.0        15.0      26      1    150.25   \n1   2       2.0        3.0      2.0        15.0      33      1    143.62   \n2   3       3.0        2.0      3.0        17.0       3      1    131.80   \n3   4       4.0        4.0      4.0        17.0       3      1    166.84   \n4   5       5.0        5.0      5.0        17.0      45      1    169.94   \n\n   divsTime  finalTime  ...     stroke  isRelay  divsTimePctOfMean  \\\n0    138.24     135.59  ...  Freestyle    False           0.728062   \n1    139.33     138.31  ...  Freestyle    False           0.733803   \n2    139.84     136.89  ...  Freestyle    False           0.736489   \n3    151.26     149.14  ...  Freestyle    False           0.796634   \n4    165.49     160.00  ...  Freestyle    False           0.871578   \n\n   normed_divsTimePctOfMean  normed_divsSpeed  normed_numRelays  \\\n0                 -1.305019          1.586392               1.0   \n1                 -1.277470          1.535021               0.5   \n2                 -1.264580          1.511260               1.0   \n3                 -0.975946          1.021167               1.0   \n4                 -0.616290          0.505135               0.5   \n\n  normed_numEvents  normed_distance clipped_divsRank  designation  \n0              1.0              1.0              1.0          NaN  \n1              1.0              1.0              2.0          NaN  \n2              1.0              1.0              3.0          NaN  \n3              1.0              1.0              4.0          NaN  \n4              1.0              1.0              5.0          NaN  \n\n[5 rows x 28 columns]"
     },
     "execution_count": 4,
     "metadata": {},
     "output_type": "execute_result"
    }
   ],
   "source": [
    "rawDf = pd.read_csv(\"data/tier6.csv\")\n",
    "df = rawDf.copy()\n",
    "df.head()"
   ]
  }
 ]
}